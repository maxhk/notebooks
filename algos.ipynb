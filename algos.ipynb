{
 "cells": [
  {
   "cell_type": "code",
   "execution_count": 1,
   "metadata": {
    "collapsed": false,
    "scrolled": false
   },
   "outputs": [
    {
     "name": "stdout",
     "output_type": "stream",
     "text": [
      "Populating the interactive namespace from numpy and matplotlib\n"
     ]
    }
   ],
   "source": [
    "%pylab inline\n",
    "\n",
    "from __future__ import print_function\n",
    "from contextlib import contextmanager\n",
    "import tempfile, os, shutil\n",
    "import subprocess as sp\n",
    "\n",
    "\n",
    "def register_list(output_dir):\n",
    "    index = 1\n",
    "    while True:\n",
    "        l = yield        \n",
    "           \n",
    "        fig = plt.figure()\n",
    "        plt.bar(range(len(l)), l)\n",
    "        plt.gca().text(1, len(l)-1, str(index))\n",
    "        plt.savefig(os.path.join(output_dir, r'%d.jpg' % (index)))\n",
    "        index += 1\n",
    "        plt.close(fig)\n",
    "        \n",
    "\n",
    "@contextmanager\n",
    "def VideoMaker(filepath):\n",
    "    try:\n",
    "        plt.ioff()\n",
    "        temp_dir = tempfile.mkdtemp()\n",
    "        g = register_list(temp_dir)\n",
    "        g.next()\n",
    "        yield g\n",
    "\n",
    "        sp.call(r'ffmpeg -y -framerate 20 -i {}/%d.jpg -c:v libx264 {}'.format(temp_dir, filepath), shell=True)\n",
    "        \n",
    "    finally:\n",
    "        shutil.rmtree(temp_dir)\n",
    "        plt.show()\n"
   ]
  },
  {
   "cell_type": "code",
   "execution_count": 2,
   "metadata": {
    "collapsed": false,
    "scrolled": false
   },
   "outputs": [],
   "source": [
    "def bubblemax(l, v):\n",
    "    for i in range(len(l)):\n",
    "        for j in range(i+1, len(l)):\n",
    "            if l[i] > l[j]:\n",
    "                l[i], l[j] = l[j], l[i]\n",
    "                v.send(l)"
   ]
  },
  {
   "cell_type": "code",
   "execution_count": 3,
   "metadata": {
    "collapsed": false
   },
   "outputs": [],
   "source": [
    "def bubble(bad_list, v):\n",
    "    length = len(bad_list) - 1\n",
    "    sorted = False\n",
    "\n",
    "    while not sorted:\n",
    "        sorted = True\n",
    "        for i in range(length):\n",
    "            if bad_list[i] > bad_list[i+1]:\n",
    "                sorted = False\n",
    "                bad_list[i], bad_list[i+1] = bad_list[i+1], bad_list[i]\n",
    "                v.send(bad_list)"
   ]
  },
  {
   "cell_type": "code",
   "execution_count": null,
   "metadata": {
    "collapsed": false
   },
   "outputs": [],
   "source": [
    "def quickSort(alist,v):\n",
    "    quickSortHelper(alist,0,len(alist)-1,v)\n",
    "\n",
    "    \n",
    "def quickSortHelper(alist,first,last,v):\n",
    "    if first<last:\n",
    "        splitpoint = partition(alist,first,last,v)\n",
    "\n",
    "        quickSortHelper(alist,first,splitpoint-1,v)\n",
    "        quickSortHelper(alist,splitpoint+1,last,v)\n",
    "\n",
    "\n",
    "def partition(alist,first,last,v):\n",
    "    pivotvalue = alist[first]\n",
    "\n",
    "    leftmark = first+1\n",
    "    rightmark = last\n",
    "\n",
    "    done = False\n",
    "    while not done:\n",
    "\n",
    "        while leftmark <= rightmark and alist[leftmark] <= pivotvalue:\n",
    "            leftmark = leftmark + 1\n",
    "\n",
    "        while alist[rightmark] >= pivotvalue and rightmark >= leftmark:\n",
    "            rightmark = rightmark -1\n",
    "\n",
    "        if rightmark < leftmark:\n",
    "            done = True\n",
    "                \n",
    "        else:\n",
    "            temp = alist[leftmark]\n",
    "            alist[leftmark] = alist[rightmark]\n",
    "            alist[rightmark] = temp\n",
    "            v.send(alist)\n",
    "\n",
    "    temp = alist[first]\n",
    "    alist[first] = alist[rightmark]\n",
    "    alist[rightmark] = temp\n",
    "    v.send(alist)\n",
    "    return rightmark\n"
   ]
  },
  {
   "cell_type": "code",
   "execution_count": null,
   "metadata": {
    "collapsed": false
   },
   "outputs": [],
   "source": [
    "from copy import copy\n",
    "\n",
    "l = range(15)\n",
    "shuffle(l)\n",
    "\n",
    "with VideoMaker(r'/Users/max/Desktop/out1.mp4') as v:\n",
    "    v.send(l)\n",
    "    bubblemax(copy(l), v)\n",
    "\n",
    "with VideoMaker(r'/Users/max/Desktop/out2.mp4') as v:\n",
    "    v.send(l)\n",
    "    bubble(copy(l), v)\n",
    "\n",
    "with VideoMaker(r'/Users/max/Desktop/out3.mp4') as v:\n",
    "    v.send(l)\n",
    "    quickSort(copy(l), v)\n"
   ]
  },
  {
   "cell_type": "code",
   "execution_count": null,
   "metadata": {
    "collapsed": true
   },
   "outputs": [],
   "source": []
  }
 ],
 "metadata": {
  "kernelspec": {
   "display_name": "Python 2",
   "language": "python",
   "name": "python2"
  },
  "language_info": {
   "codemirror_mode": {
    "name": "ipython",
    "version": 2
   },
   "file_extension": ".py",
   "mimetype": "text/x-python",
   "name": "python",
   "nbconvert_exporter": "python",
   "pygments_lexer": "ipython2",
   "version": "2.7.9"
  }
 },
 "nbformat": 4,
 "nbformat_minor": 0
}

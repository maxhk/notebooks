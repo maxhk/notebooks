{
 "metadata": {
  "name": "py challenge"
 },
 "nbformat": 3,
 "nbformat_minor": 0,
 "worksheets": [
  {
   "cells": [
    {
     "cell_type": "markdown",
     "metadata": {},
     "source": [
      "# The [Python challenge](http://www.pythonchallenge.com/) - my answers"
     ]
    },
    {
     "cell_type": "code",
     "collapsed": false,
     "input": [
      "from __future__ import print_function, division\n",
      "from itertools import dropwhile, islice\n",
      "import functools\n",
      "import requests\n",
      "\n",
      "# Helper functions and generators\n",
      "base_url = r'http://www.pythonchallenge.com/pc/def/{}.html'\n",
      "\n",
      "\n",
      "def not_started(line, start_line='<!--'):\n",
      "    '''predicates checking if start_line has been reached'''\n",
      "    return line != start_line\n",
      "\n",
      "\n",
      "def skip_last(items):\n",
      "    '''generators that skips the last item for the itertor'''\n",
      "    prev = None\n",
      "    for item in items:\n",
      "        if prev is None:\n",
      "            prev = item\n",
      "            continue\n",
      "\n",
      "        yield prev\n",
      "        prev = item\n",
      "        \n",
      "        \n",
      "def get_challenge_content(page_url, start_line=None):\n",
      "    '''download the page source and get the text in the bottom section\n",
      "    of the source'''\n",
      "    \n",
      "    challenge_predicate = not_started\n",
      "    if start_line is not None:\n",
      "        challenge_predicate = functools.partial(not_started, start_line=start_line)\n",
      "        \n",
      "    req = requests.get(page_url)\n",
      "    \n",
      "    # drop all line before the start line\n",
      "    result_lines = dropwhile(challenge_predicate, req.iter_lines())\n",
      "    \n",
      "    # drop the start line as well\n",
      "    result_lines = islice(result_lines, 1, None)\n",
      "    \n",
      "    # and drop the last and return\n",
      "    return skip_last(result_lines)\n",
      "    "
     ],
     "language": "python",
     "metadata": {},
     "outputs": [],
     "prompt_number": 1
    },
    {
     "cell_type": "markdown",
     "metadata": {},
     "source": [
      "# Challenge 1"
     ]
    },
    {
     "cell_type": "code",
     "collapsed": false,
     "input": [
      "import string\n",
      "# let's play around define a circular permutation function to shift the ABC by 2 chars\n",
      "\n",
      "abc = string.ascii_lowercase\n",
      "print(abc)\n",
      "\n",
      "def circular_permutation(l, shift):\n",
      "    assert isinstance(shift, int) # quick and dirty way to check the function parameters\n",
      "    assert 0 < shift < 26\n",
      "    \n",
      "    return l[shift:] + l[:shift]\n",
      "    \n",
      "    \n",
      "cde = circular_permutation(abc, 2)\n",
      "print(cde)    "
     ],
     "language": "python",
     "metadata": {},
     "outputs": [
      {
       "output_type": "stream",
       "stream": "stdout",
       "text": [
        "abcdefghijklmnopqrstuvwxyz\n",
        "cdefghijklmnopqrstuvwxyzab\n"
       ]
      }
     ],
     "prompt_number": 2
    },
    {
     "cell_type": "markdown",
     "metadata": {},
     "source": [
      "**Now we can translate the text and the URL...**"
     ]
    },
    {
     "cell_type": "code",
     "collapsed": false,
     "input": [
      "def translate(text):\n",
      "    translation_table = string.maketrans(abc, cde)\n",
      "    return text.translate(translation_table)\n",
      "\n",
      "text = '''g fmnc wms bgblr rpylqjyrc gr zw fylb. rfyrq ufyr amknsrcpq ypc dmp. bmgle gr gl zw fylb gq glcddgagclr ylb rfyr'q ufw rfgq rcvr gq qm jmle. sqgle qrpgle.kyicrpylq() gq pcamkkclbcb. lmu ynnjw ml rfc spj.'''\n",
      "print(translate(text))\n",
      "\n",
      "next_url = base_url.format(translate('map'))\n",
      "print(next_url)"
     ],
     "language": "python",
     "metadata": {},
     "outputs": [
      {
       "output_type": "stream",
       "stream": "stdout",
       "text": [
        "i hope you didnt translate it by hand. thats what computers are for. doing it in by hand is inefficient and that's why this text is so long. using string.maketrans() is recommended. now apply on the url.\n",
        "http://www.pythonchallenge.com/pc/def/ocr.html\n"
       ]
      }
     ],
     "prompt_number": 3
    },
    {
     "cell_type": "markdown",
     "metadata": {},
     "source": [
      "# Challenge 2"
     ]
    },
    {
     "cell_type": "code",
     "collapsed": false,
     "input": [
      "from collections import defaultdict\n",
      "from cStringIO import StringIO\n",
      "import itertools\n",
      "\n",
      "buf = StringIO()\n",
      "letter_count = defaultdict(int)\n",
      "page_url = r'http://www.pythonchallenge.com/pc/def/ocr.html'\n",
      "\n",
      "# Parse the text once and count all letters\n",
      "for line in get_challenge_content(page_url, start_line='find rare characters in the mess below:'):\n",
      "    buf.write(line)\n",
      "    for c in line:\n",
      "        if c in string.ascii_letters:\n",
      "            letter_count[c] += 1\n",
      "        \n",
      "# Parse it once more and only print out the letters that appear once        \n",
      "for c in buf.getvalue():\n",
      "    if letter_count[c] == 1:\n",
      "        print(c, end='')"
     ],
     "language": "python",
     "metadata": {},
     "outputs": [
      {
       "output_type": "stream",
       "stream": "stdout",
       "text": [
        "equality"
       ]
      }
     ],
     "prompt_number": 4
    },
    {
     "cell_type": "code",
     "collapsed": false,
     "input": [
      "next_url = base_url.format('equality')\n",
      "print(next_url)"
     ],
     "language": "python",
     "metadata": {},
     "outputs": [
      {
       "output_type": "stream",
       "stream": "stdout",
       "text": [
        "http://www.pythonchallenge.com/pc/def/equality.html\n"
       ]
      }
     ],
     "prompt_number": 5
    },
    {
     "cell_type": "markdown",
     "metadata": {},
     "source": [
      "# Challenge 3"
     ]
    },
    {
     "cell_type": "code",
     "collapsed": false,
     "input": [
      "page_url = r'http://www.pythonchallenge.com/pc/def/equality.html'\n",
      "\n",
      "# Let's start by storing the whole content into a string\n",
      "text = '\\n'.join(get_challenge_content(page_url))"
     ],
     "language": "python",
     "metadata": {},
     "outputs": [],
     "prompt_number": 6
    },
    {
     "cell_type": "code",
     "collapsed": false,
     "input": [
      "import re\n",
      "\n",
      "# and use a regular expression to extract the lower case letters\n",
      "# that are surrounded by exactly 3 upper case letters\n",
      "pattern = re.compile(r'[^A-Z][A-Z]{3}([a-z])[A-Z]{3}[^A-Z]', re.MULTILINE)\n",
      "\n",
      "result = ''.join(pattern.findall(text))\n",
      "next_url = base_url.format(result)\n",
      "print(next_url)"
     ],
     "language": "python",
     "metadata": {},
     "outputs": [
      {
       "output_type": "stream",
       "stream": "stdout",
       "text": [
        "http://www.pythonchallenge.com/pc/def/linkedlist.html\n"
       ]
      }
     ],
     "prompt_number": 7
    },
    {
     "cell_type": "markdown",
     "metadata": {},
     "source": [
      "# Challenge 4"
     ]
    },
    {
     "cell_type": "code",
     "collapsed": false,
     "input": [
      "def get_nothing(url):\n",
      "    text = requests.get(url).text\n",
      "    for nothing in re.findall(r'nothing.*?(\\d+)', text):\n",
      "        return True, nothing\n",
      "    return False, text\n",
      "    \n",
      "page_url = r'http://www.pythonchallenge.com/pc/def/linkedlist.php'\n",
      "nothing_url = r'http://www.pythonchallenge.com/pc/def/linkedlist.php?nothing={}'\n",
      "nothing_list = []\n",
      "# find first \"nothing\" :)\n",
      "nothing_found, text = get_nothing(page_url)\n",
      "\n",
      "while nothing_found:\n",
      "    next_url = nothing_url.format(text)\n",
      "    nothing_list.append(text)\n",
      "    nothing_found, text = get_nothing(next_url)\n",
      "    \n",
      "    if nothing_found:\n",
      "        print(next_url)\n",
      "        \n",
      "    elif 'Divide by two' in text:\n",
      "        print(text)\n",
      "        text = str(int(nothing_list[-1]) //2)\n",
      "        print('next node id = {}'.format(text))\n",
      "        nothing_list.append(text)\n",
      "        nothing_found = True\n",
      "\n",
      "print(text)\n"
     ],
     "language": "python",
     "metadata": {},
     "outputs": [
      {
       "output_type": "stream",
       "stream": "stdout",
       "text": [
        "http://www.pythonchallenge.com/pc/def/linkedlist.php?nothing=12345\n",
        "http://www.pythonchallenge.com/pc/def/linkedlist.php?nothing=44827"
       ]
      },
      {
       "output_type": "stream",
       "stream": "stdout",
       "text": [
        "\n",
        "http://www.pythonchallenge.com/pc/def/linkedlist.php?nothing=45439"
       ]
      },
      {
       "output_type": "stream",
       "stream": "stdout",
       "text": [
        "\n",
        "http://www.pythonchallenge.com/pc/def/linkedlist.php?nothing=94485"
       ]
      },
      {
       "output_type": "stream",
       "stream": "stdout",
       "text": [
        "\n",
        "http://www.pythonchallenge.com/pc/def/linkedlist.php?nothing=72198"
       ]
      },
      {
       "output_type": "stream",
       "stream": "stdout",
       "text": [
        "\n",
        "http://www.pythonchallenge.com/pc/def/linkedlist.php?nothing=80992"
       ]
      },
      {
       "output_type": "stream",
       "stream": "stdout",
       "text": [
        "\n",
        "http://www.pythonchallenge.com/pc/def/linkedlist.php?nothing=8880"
       ]
      },
      {
       "output_type": "stream",
       "stream": "stdout",
       "text": [
        "\n",
        "http://www.pythonchallenge.com/pc/def/linkedlist.php?nothing=40961"
       ]
      },
      {
       "output_type": "stream",
       "stream": "stdout",
       "text": [
        "\n",
        "http://www.pythonchallenge.com/pc/def/linkedlist.php?nothing=58765"
       ]
      },
      {
       "output_type": "stream",
       "stream": "stdout",
       "text": [
        "\n",
        "http://www.pythonchallenge.com/pc/def/linkedlist.php?nothing=46561"
       ]
      },
      {
       "output_type": "stream",
       "stream": "stdout",
       "text": [
        "\n",
        "http://www.pythonchallenge.com/pc/def/linkedlist.php?nothing=13418"
       ]
      },
      {
       "output_type": "stream",
       "stream": "stdout",
       "text": [
        "\n",
        "http://www.pythonchallenge.com/pc/def/linkedlist.php?nothing=41954"
       ]
      },
      {
       "output_type": "stream",
       "stream": "stdout",
       "text": [
        "\n",
        "http://www.pythonchallenge.com/pc/def/linkedlist.php?nothing=46782"
       ]
      },
      {
       "output_type": "stream",
       "stream": "stdout",
       "text": [
        "\n",
        "http://www.pythonchallenge.com/pc/def/linkedlist.php?nothing=92730"
       ]
      },
      {
       "output_type": "stream",
       "stream": "stdout",
       "text": [
        "\n",
        "http://www.pythonchallenge.com/pc/def/linkedlist.php?nothing=89229"
       ]
      },
      {
       "output_type": "stream",
       "stream": "stdout",
       "text": [
        "\n",
        "http://www.pythonchallenge.com/pc/def/linkedlist.php?nothing=25646"
       ]
      },
      {
       "output_type": "stream",
       "stream": "stdout",
       "text": [
        "\n",
        "http://www.pythonchallenge.com/pc/def/linkedlist.php?nothing=74288"
       ]
      },
      {
       "output_type": "stream",
       "stream": "stdout",
       "text": [
        "\n",
        "http://www.pythonchallenge.com/pc/def/linkedlist.php?nothing=25945"
       ]
      },
      {
       "output_type": "stream",
       "stream": "stdout",
       "text": [
        "\n",
        "http://www.pythonchallenge.com/pc/def/linkedlist.php?nothing=39876"
       ]
      },
      {
       "output_type": "stream",
       "stream": "stdout",
       "text": [
        "\n",
        "http://www.pythonchallenge.com/pc/def/linkedlist.php?nothing=8498"
       ]
      },
      {
       "output_type": "stream",
       "stream": "stdout",
       "text": [
        "\n",
        "http://www.pythonchallenge.com/pc/def/linkedlist.php?nothing=34684"
       ]
      },
      {
       "output_type": "stream",
       "stream": "stdout",
       "text": [
        "\n",
        "http://www.pythonchallenge.com/pc/def/linkedlist.php?nothing=62316"
       ]
      },
      {
       "output_type": "stream",
       "stream": "stdout",
       "text": [
        "\n",
        "http://www.pythonchallenge.com/pc/def/linkedlist.php?nothing=71331"
       ]
      },
      {
       "output_type": "stream",
       "stream": "stdout",
       "text": [
        "\n",
        "http://www.pythonchallenge.com/pc/def/linkedlist.php?nothing=59717"
       ]
      },
      {
       "output_type": "stream",
       "stream": "stdout",
       "text": [
        "\n",
        "http://www.pythonchallenge.com/pc/def/linkedlist.php?nothing=76893"
       ]
      },
      {
       "output_type": "stream",
       "stream": "stdout",
       "text": [
        "\n",
        "http://www.pythonchallenge.com/pc/def/linkedlist.php?nothing=44091"
       ]
      },
      {
       "output_type": "stream",
       "stream": "stdout",
       "text": [
        "\n",
        "http://www.pythonchallenge.com/pc/def/linkedlist.php?nothing=73241"
       ]
      },
      {
       "output_type": "stream",
       "stream": "stdout",
       "text": [
        "\n",
        "http://www.pythonchallenge.com/pc/def/linkedlist.php?nothing=19242"
       ]
      },
      {
       "output_type": "stream",
       "stream": "stdout",
       "text": [
        "\n",
        "http://www.pythonchallenge.com/pc/def/linkedlist.php?nothing=17476"
       ]
      },
      {
       "output_type": "stream",
       "stream": "stdout",
       "text": [
        "\n",
        "http://www.pythonchallenge.com/pc/def/linkedlist.php?nothing=39566"
       ]
      },
      {
       "output_type": "stream",
       "stream": "stdout",
       "text": [
        "\n",
        "http://www.pythonchallenge.com/pc/def/linkedlist.php?nothing=81293"
       ]
      },
      {
       "output_type": "stream",
       "stream": "stdout",
       "text": [
        "\n",
        "http://www.pythonchallenge.com/pc/def/linkedlist.php?nothing=25857"
       ]
      },
      {
       "output_type": "stream",
       "stream": "stdout",
       "text": [
        "\n",
        "http://www.pythonchallenge.com/pc/def/linkedlist.php?nothing=74343"
       ]
      },
      {
       "output_type": "stream",
       "stream": "stdout",
       "text": [
        "\n",
        "http://www.pythonchallenge.com/pc/def/linkedlist.php?nothing=39410"
       ]
      },
      {
       "output_type": "stream",
       "stream": "stdout",
       "text": [
        "\n",
        "http://www.pythonchallenge.com/pc/def/linkedlist.php?nothing=5505"
       ]
      },
      {
       "output_type": "stream",
       "stream": "stdout",
       "text": [
        "\n",
        "http://www.pythonchallenge.com/pc/def/linkedlist.php?nothing=27104"
       ]
      },
      {
       "output_type": "stream",
       "stream": "stdout",
       "text": [
        "\n",
        "http://www.pythonchallenge.com/pc/def/linkedlist.php?nothing=54003"
       ]
      },
      {
       "output_type": "stream",
       "stream": "stdout",
       "text": [
        "\n",
        "http://www.pythonchallenge.com/pc/def/linkedlist.php?nothing=23501"
       ]
      },
      {
       "output_type": "stream",
       "stream": "stdout",
       "text": [
        "\n",
        "http://www.pythonchallenge.com/pc/def/linkedlist.php?nothing=21110"
       ]
      },
      {
       "output_type": "stream",
       "stream": "stdout",
       "text": [
        "\n",
        "http://www.pythonchallenge.com/pc/def/linkedlist.php?nothing=88399"
       ]
      },
      {
       "output_type": "stream",
       "stream": "stdout",
       "text": [
        "\n",
        "http://www.pythonchallenge.com/pc/def/linkedlist.php?nothing=49740"
       ]
      },
      {
       "output_type": "stream",
       "stream": "stdout",
       "text": [
        "\n",
        "http://www.pythonchallenge.com/pc/def/linkedlist.php?nothing=31552"
       ]
      },
      {
       "output_type": "stream",
       "stream": "stdout",
       "text": [
        "\n",
        "http://www.pythonchallenge.com/pc/def/linkedlist.php?nothing=39998"
       ]
      },
      {
       "output_type": "stream",
       "stream": "stdout",
       "text": [
        "\n",
        "http://www.pythonchallenge.com/pc/def/linkedlist.php?nothing=19755"
       ]
      },
      {
       "output_type": "stream",
       "stream": "stdout",
       "text": [
        "\n",
        "http://www.pythonchallenge.com/pc/def/linkedlist.php?nothing=64624"
       ]
      },
      {
       "output_type": "stream",
       "stream": "stdout",
       "text": [
        "\n",
        "http://www.pythonchallenge.com/pc/def/linkedlist.php?nothing=37817"
       ]
      },
      {
       "output_type": "stream",
       "stream": "stdout",
       "text": [
        "\n",
        "http://www.pythonchallenge.com/pc/def/linkedlist.php?nothing=43427"
       ]
      },
      {
       "output_type": "stream",
       "stream": "stdout",
       "text": [
        "\n",
        "http://www.pythonchallenge.com/pc/def/linkedlist.php?nothing=15115"
       ]
      },
      {
       "output_type": "stream",
       "stream": "stdout",
       "text": [
        "\n",
        "http://www.pythonchallenge.com/pc/def/linkedlist.php?nothing=44327"
       ]
      },
      {
       "output_type": "stream",
       "stream": "stdout",
       "text": [
        "\n",
        "http://www.pythonchallenge.com/pc/def/linkedlist.php?nothing=7715"
       ]
      },
      {
       "output_type": "stream",
       "stream": "stdout",
       "text": [
        "\n",
        "http://www.pythonchallenge.com/pc/def/linkedlist.php?nothing=15248"
       ]
      },
      {
       "output_type": "stream",
       "stream": "stdout",
       "text": [
        "\n",
        "http://www.pythonchallenge.com/pc/def/linkedlist.php?nothing=61895"
       ]
      },
      {
       "output_type": "stream",
       "stream": "stdout",
       "text": [
        "\n",
        "http://www.pythonchallenge.com/pc/def/linkedlist.php?nothing=54759"
       ]
      },
      {
       "output_type": "stream",
       "stream": "stdout",
       "text": [
        "\n",
        "http://www.pythonchallenge.com/pc/def/linkedlist.php?nothing=54270"
       ]
      },
      {
       "output_type": "stream",
       "stream": "stdout",
       "text": [
        "\n",
        "http://www.pythonchallenge.com/pc/def/linkedlist.php?nothing=51332"
       ]
      },
      {
       "output_type": "stream",
       "stream": "stdout",
       "text": [
        "\n",
        "http://www.pythonchallenge.com/pc/def/linkedlist.php?nothing=63481"
       ]
      },
      {
       "output_type": "stream",
       "stream": "stdout",
       "text": [
        "\n",
        "http://www.pythonchallenge.com/pc/def/linkedlist.php?nothing=12362"
       ]
      },
      {
       "output_type": "stream",
       "stream": "stdout",
       "text": [
        "\n",
        "http://www.pythonchallenge.com/pc/def/linkedlist.php?nothing=94476"
       ]
      },
      {
       "output_type": "stream",
       "stream": "stdout",
       "text": [
        "\n",
        "http://www.pythonchallenge.com/pc/def/linkedlist.php?nothing=87810"
       ]
      },
      {
       "output_type": "stream",
       "stream": "stdout",
       "text": [
        "\n",
        "http://www.pythonchallenge.com/pc/def/linkedlist.php?nothing=6027"
       ]
      },
      {
       "output_type": "stream",
       "stream": "stdout",
       "text": [
        "\n",
        "http://www.pythonchallenge.com/pc/def/linkedlist.php?nothing=47551"
       ]
      },
      {
       "output_type": "stream",
       "stream": "stdout",
       "text": [
        "\n",
        "http://www.pythonchallenge.com/pc/def/linkedlist.php?nothing=79498"
       ]
      },
      {
       "output_type": "stream",
       "stream": "stdout",
       "text": [
        "\n",
        "http://www.pythonchallenge.com/pc/def/linkedlist.php?nothing=81226"
       ]
      },
      {
       "output_type": "stream",
       "stream": "stdout",
       "text": [
        "\n",
        "http://www.pythonchallenge.com/pc/def/linkedlist.php?nothing=4256"
       ]
      },
      {
       "output_type": "stream",
       "stream": "stdout",
       "text": [
        "\n",
        "http://www.pythonchallenge.com/pc/def/linkedlist.php?nothing=62734"
       ]
      },
      {
       "output_type": "stream",
       "stream": "stdout",
       "text": [
        "\n",
        "http://www.pythonchallenge.com/pc/def/linkedlist.php?nothing=25666"
       ]
      },
      {
       "output_type": "stream",
       "stream": "stdout",
       "text": [
        "\n",
        "http://www.pythonchallenge.com/pc/def/linkedlist.php?nothing=14781"
       ]
      },
      {
       "output_type": "stream",
       "stream": "stdout",
       "text": [
        "\n",
        "http://www.pythonchallenge.com/pc/def/linkedlist.php?nothing=21412"
       ]
      },
      {
       "output_type": "stream",
       "stream": "stdout",
       "text": [
        "\n",
        "http://www.pythonchallenge.com/pc/def/linkedlist.php?nothing=55205"
       ]
      },
      {
       "output_type": "stream",
       "stream": "stdout",
       "text": [
        "\n",
        "http://www.pythonchallenge.com/pc/def/linkedlist.php?nothing=65516"
       ]
      },
      {
       "output_type": "stream",
       "stream": "stdout",
       "text": [
        "\n",
        "http://www.pythonchallenge.com/pc/def/linkedlist.php?nothing=53535"
       ]
      },
      {
       "output_type": "stream",
       "stream": "stdout",
       "text": [
        "\n",
        "http://www.pythonchallenge.com/pc/def/linkedlist.php?nothing=4437"
       ]
      },
      {
       "output_type": "stream",
       "stream": "stdout",
       "text": [
        "\n",
        "http://www.pythonchallenge.com/pc/def/linkedlist.php?nothing=43442"
       ]
      },
      {
       "output_type": "stream",
       "stream": "stdout",
       "text": [
        "\n",
        "http://www.pythonchallenge.com/pc/def/linkedlist.php?nothing=91308"
       ]
      },
      {
       "output_type": "stream",
       "stream": "stdout",
       "text": [
        "\n",
        "http://www.pythonchallenge.com/pc/def/linkedlist.php?nothing=1312"
       ]
      },
      {
       "output_type": "stream",
       "stream": "stdout",
       "text": [
        "\n",
        "http://www.pythonchallenge.com/pc/def/linkedlist.php?nothing=36268"
       ]
      },
      {
       "output_type": "stream",
       "stream": "stdout",
       "text": [
        "\n",
        "http://www.pythonchallenge.com/pc/def/linkedlist.php?nothing=34289"
       ]
      },
      {
       "output_type": "stream",
       "stream": "stdout",
       "text": [
        "\n",
        "http://www.pythonchallenge.com/pc/def/linkedlist.php?nothing=46384"
       ]
      },
      {
       "output_type": "stream",
       "stream": "stdout",
       "text": [
        "\n",
        "http://www.pythonchallenge.com/pc/def/linkedlist.php?nothing=18097"
       ]
      },
      {
       "output_type": "stream",
       "stream": "stdout",
       "text": [
        "\n",
        "http://www.pythonchallenge.com/pc/def/linkedlist.php?nothing=9401"
       ]
      },
      {
       "output_type": "stream",
       "stream": "stdout",
       "text": [
        "\n",
        "http://www.pythonchallenge.com/pc/def/linkedlist.php?nothing=54249"
       ]
      },
      {
       "output_type": "stream",
       "stream": "stdout",
       "text": [
        "\n",
        "http://www.pythonchallenge.com/pc/def/linkedlist.php?nothing=29247"
       ]
      },
      {
       "output_type": "stream",
       "stream": "stdout",
       "text": [
        "\n",
        "http://www.pythonchallenge.com/pc/def/linkedlist.php?nothing=13115"
       ]
      },
      {
       "output_type": "stream",
       "stream": "stdout",
       "text": [
        "\n",
        "http://www.pythonchallenge.com/pc/def/linkedlist.php?nothing=23053"
       ]
      },
      {
       "output_type": "stream",
       "stream": "stdout",
       "text": [
        "\n",
        "http://www.pythonchallenge.com/pc/def/linkedlist.php?nothing=3875"
       ]
      },
      {
       "output_type": "stream",
       "stream": "stdout",
       "text": [
        "\n",
        "Yes. Divide by two and keep going."
       ]
      },
      {
       "output_type": "stream",
       "stream": "stdout",
       "text": [
        "\n",
        "next node id = 8022\n",
        "http://www.pythonchallenge.com/pc/def/linkedlist.php?nothing=8022"
       ]
      },
      {
       "output_type": "stream",
       "stream": "stdout",
       "text": [
        "\n",
        "http://www.pythonchallenge.com/pc/def/linkedlist.php?nothing=25357"
       ]
      },
      {
       "output_type": "stream",
       "stream": "stdout",
       "text": [
        "\n",
        "http://www.pythonchallenge.com/pc/def/linkedlist.php?nothing=89879"
       ]
      },
      {
       "output_type": "stream",
       "stream": "stdout",
       "text": [
        "\n",
        "http://www.pythonchallenge.com/pc/def/linkedlist.php?nothing=80119"
       ]
      },
      {
       "output_type": "stream",
       "stream": "stdout",
       "text": [
        "\n",
        "http://www.pythonchallenge.com/pc/def/linkedlist.php?nothing=50290"
       ]
      },
      {
       "output_type": "stream",
       "stream": "stdout",
       "text": [
        "\n",
        "http://www.pythonchallenge.com/pc/def/linkedlist.php?nothing=9297"
       ]
      },
      {
       "output_type": "stream",
       "stream": "stdout",
       "text": [
        "\n",
        "http://www.pythonchallenge.com/pc/def/linkedlist.php?nothing=30571"
       ]
      },
      {
       "output_type": "stream",
       "stream": "stdout",
       "text": [
        "\n",
        "http://www.pythonchallenge.com/pc/def/linkedlist.php?nothing=7414"
       ]
      },
      {
       "output_type": "stream",
       "stream": "stdout",
       "text": [
        "\n",
        "http://www.pythonchallenge.com/pc/def/linkedlist.php?nothing=30978"
       ]
      },
      {
       "output_type": "stream",
       "stream": "stdout",
       "text": [
        "\n",
        "http://www.pythonchallenge.com/pc/def/linkedlist.php?nothing=16408"
       ]
      },
      {
       "output_type": "stream",
       "stream": "stdout",
       "text": [
        "\n",
        "http://www.pythonchallenge.com/pc/def/linkedlist.php?nothing=80109"
       ]
      },
      {
       "output_type": "stream",
       "stream": "stdout",
       "text": [
        "\n",
        "http://www.pythonchallenge.com/pc/def/linkedlist.php?nothing=55736"
       ]
      },
      {
       "output_type": "stream",
       "stream": "stdout",
       "text": [
        "\n",
        "http://www.pythonchallenge.com/pc/def/linkedlist.php?nothing=15357"
       ]
      },
      {
       "output_type": "stream",
       "stream": "stdout",
       "text": [
        "\n",
        "http://www.pythonchallenge.com/pc/def/linkedlist.php?nothing=80887"
       ]
      },
      {
       "output_type": "stream",
       "stream": "stdout",
       "text": [
        "\n",
        "http://www.pythonchallenge.com/pc/def/linkedlist.php?nothing=35014"
       ]
      },
      {
       "output_type": "stream",
       "stream": "stdout",
       "text": [
        "\n",
        "http://www.pythonchallenge.com/pc/def/linkedlist.php?nothing=16523"
       ]
      },
      {
       "output_type": "stream",
       "stream": "stdout",
       "text": [
        "\n",
        "http://www.pythonchallenge.com/pc/def/linkedlist.php?nothing=50286"
       ]
      },
      {
       "output_type": "stream",
       "stream": "stdout",
       "text": [
        "\n",
        "http://www.pythonchallenge.com/pc/def/linkedlist.php?nothing=34813"
       ]
      },
      {
       "output_type": "stream",
       "stream": "stdout",
       "text": [
        "\n",
        "http://www.pythonchallenge.com/pc/def/linkedlist.php?nothing=77562"
       ]
      },
      {
       "output_type": "stream",
       "stream": "stdout",
       "text": [
        "\n",
        "http://www.pythonchallenge.com/pc/def/linkedlist.php?nothing=54746"
       ]
      },
      {
       "output_type": "stream",
       "stream": "stdout",
       "text": [
        "\n",
        "http://www.pythonchallenge.com/pc/def/linkedlist.php?nothing=22680"
       ]
      },
      {
       "output_type": "stream",
       "stream": "stdout",
       "text": [
        "\n",
        "http://www.pythonchallenge.com/pc/def/linkedlist.php?nothing=19705"
       ]
      },
      {
       "output_type": "stream",
       "stream": "stdout",
       "text": [
        "\n",
        "http://www.pythonchallenge.com/pc/def/linkedlist.php?nothing=77000"
       ]
      },
      {
       "output_type": "stream",
       "stream": "stdout",
       "text": [
        "\n",
        "http://www.pythonchallenge.com/pc/def/linkedlist.php?nothing=27634"
       ]
      },
      {
       "output_type": "stream",
       "stream": "stdout",
       "text": [
        "\n",
        "http://www.pythonchallenge.com/pc/def/linkedlist.php?nothing=21008"
       ]
      },
      {
       "output_type": "stream",
       "stream": "stdout",
       "text": [
        "\n",
        "http://www.pythonchallenge.com/pc/def/linkedlist.php?nothing=64994"
       ]
      },
      {
       "output_type": "stream",
       "stream": "stdout",
       "text": [
        "\n",
        "http://www.pythonchallenge.com/pc/def/linkedlist.php?nothing=66109"
       ]
      },
      {
       "output_type": "stream",
       "stream": "stdout",
       "text": [
        "\n",
        "http://www.pythonchallenge.com/pc/def/linkedlist.php?nothing=37855"
       ]
      },
      {
       "output_type": "stream",
       "stream": "stdout",
       "text": [
        "\n",
        "http://www.pythonchallenge.com/pc/def/linkedlist.php?nothing=36383"
       ]
      },
      {
       "output_type": "stream",
       "stream": "stdout",
       "text": [
        "\n",
        "http://www.pythonchallenge.com/pc/def/linkedlist.php?nothing=68548"
       ]
      },
      {
       "output_type": "stream",
       "stream": "stdout",
       "text": [
        "\n",
        "http://www.pythonchallenge.com/pc/def/linkedlist.php?nothing=96070"
       ]
      },
      {
       "output_type": "stream",
       "stream": "stdout",
       "text": [
        "\n",
        "http://www.pythonchallenge.com/pc/def/linkedlist.php?nothing=83051"
       ]
      },
      {
       "output_type": "stream",
       "stream": "stdout",
       "text": [
        "\n",
        "http://www.pythonchallenge.com/pc/def/linkedlist.php?nothing=58026"
       ]
      },
      {
       "output_type": "stream",
       "stream": "stdout",
       "text": [
        "\n",
        "http://www.pythonchallenge.com/pc/def/linkedlist.php?nothing=44726"
       ]
      },
      {
       "output_type": "stream",
       "stream": "stdout",
       "text": [
        "\n",
        "http://www.pythonchallenge.com/pc/def/linkedlist.php?nothing=35748"
       ]
      },
      {
       "output_type": "stream",
       "stream": "stdout",
       "text": [
        "\n",
        "http://www.pythonchallenge.com/pc/def/linkedlist.php?nothing=61287"
       ]
      },
      {
       "output_type": "stream",
       "stream": "stdout",
       "text": [
        "\n",
        "http://www.pythonchallenge.com/pc/def/linkedlist.php?nothing=559"
       ]
      },
      {
       "output_type": "stream",
       "stream": "stdout",
       "text": [
        "\n",
        "http://www.pythonchallenge.com/pc/def/linkedlist.php?nothing=81318"
       ]
      },
      {
       "output_type": "stream",
       "stream": "stdout",
       "text": [
        "\n",
        "http://www.pythonchallenge.com/pc/def/linkedlist.php?nothing=50443"
       ]
      },
      {
       "output_type": "stream",
       "stream": "stdout",
       "text": [
        "\n",
        "http://www.pythonchallenge.com/pc/def/linkedlist.php?nothing=1570"
       ]
      },
      {
       "output_type": "stream",
       "stream": "stdout",
       "text": [
        "\n",
        "http://www.pythonchallenge.com/pc/def/linkedlist.php?nothing=75244"
       ]
      },
      {
       "output_type": "stream",
       "stream": "stdout",
       "text": [
        "\n",
        "http://www.pythonchallenge.com/pc/def/linkedlist.php?nothing=56265"
       ]
      },
      {
       "output_type": "stream",
       "stream": "stdout",
       "text": [
        "\n",
        "http://www.pythonchallenge.com/pc/def/linkedlist.php?nothing=17694"
       ]
      },
      {
       "output_type": "stream",
       "stream": "stdout",
       "text": [
        "\n",
        "http://www.pythonchallenge.com/pc/def/linkedlist.php?nothing=48033"
       ]
      },
      {
       "output_type": "stream",
       "stream": "stdout",
       "text": [
        "\n",
        "http://www.pythonchallenge.com/pc/def/linkedlist.php?nothing=56523"
       ]
      },
      {
       "output_type": "stream",
       "stream": "stdout",
       "text": [
        "\n",
        "http://www.pythonchallenge.com/pc/def/linkedlist.php?nothing=51253"
       ]
      },
      {
       "output_type": "stream",
       "stream": "stdout",
       "text": [
        "\n",
        "http://www.pythonchallenge.com/pc/def/linkedlist.php?nothing=85750"
       ]
      },
      {
       "output_type": "stream",
       "stream": "stdout",
       "text": [
        "\n",
        "http://www.pythonchallenge.com/pc/def/linkedlist.php?nothing=42760"
       ]
      },
      {
       "output_type": "stream",
       "stream": "stdout",
       "text": [
        "\n",
        "http://www.pythonchallenge.com/pc/def/linkedlist.php?nothing=11877"
       ]
      },
      {
       "output_type": "stream",
       "stream": "stdout",
       "text": [
        "\n",
        "http://www.pythonchallenge.com/pc/def/linkedlist.php?nothing=15962"
       ]
      },
      {
       "output_type": "stream",
       "stream": "stdout",
       "text": [
        "\n",
        "http://www.pythonchallenge.com/pc/def/linkedlist.php?nothing=75494"
       ]
      },
      {
       "output_type": "stream",
       "stream": "stdout",
       "text": [
        "\n",
        "http://www.pythonchallenge.com/pc/def/linkedlist.php?nothing=87283"
       ]
      },
      {
       "output_type": "stream",
       "stream": "stdout",
       "text": [
        "\n",
        "http://www.pythonchallenge.com/pc/def/linkedlist.php?nothing=40396"
       ]
      },
      {
       "output_type": "stream",
       "stream": "stdout",
       "text": [
        "\n",
        "http://www.pythonchallenge.com/pc/def/linkedlist.php?nothing=49574"
       ]
      },
      {
       "output_type": "stream",
       "stream": "stdout",
       "text": [
        "\n",
        "http://www.pythonchallenge.com/pc/def/linkedlist.php?nothing=82682"
       ]
      },
      {
       "output_type": "stream",
       "stream": "stdout",
       "text": [
        "\n",
        "http://www.pythonchallenge.com/pc/def/linkedlist.php?nothing=63579"
       ]
      },
      {
       "output_type": "stream",
       "stream": "stdout",
       "text": [
        "\n",
        "http://www.pythonchallenge.com/pc/def/linkedlist.php?nothing=37278"
       ]
      },
      {
       "output_type": "stream",
       "stream": "stdout",
       "text": [
        "\n",
        "http://www.pythonchallenge.com/pc/def/linkedlist.php?nothing=53548"
       ]
      },
      {
       "output_type": "stream",
       "stream": "stdout",
       "text": [
        "\n",
        "http://www.pythonchallenge.com/pc/def/linkedlist.php?nothing=66081"
       ]
      },
      {
       "output_type": "stream",
       "stream": "stdout",
       "text": [
        "\n",
        "http://www.pythonchallenge.com/pc/def/linkedlist.php?nothing=67753"
       ]
      },
      {
       "output_type": "stream",
       "stream": "stdout",
       "text": [
        "\n",
        "http://www.pythonchallenge.com/pc/def/linkedlist.php?nothing=56337"
       ]
      },
      {
       "output_type": "stream",
       "stream": "stdout",
       "text": [
        "\n",
        "http://www.pythonchallenge.com/pc/def/linkedlist.php?nothing=3356"
       ]
      },
      {
       "output_type": "stream",
       "stream": "stdout",
       "text": [
        "\n",
        "http://www.pythonchallenge.com/pc/def/linkedlist.php?nothing=94525"
       ]
      },
      {
       "output_type": "stream",
       "stream": "stdout",
       "text": [
        "\n",
        "http://www.pythonchallenge.com/pc/def/linkedlist.php?nothing=89574"
       ]
      },
      {
       "output_type": "stream",
       "stream": "stdout",
       "text": [
        "\n",
        "http://www.pythonchallenge.com/pc/def/linkedlist.php?nothing=4413"
       ]
      },
      {
       "output_type": "stream",
       "stream": "stdout",
       "text": [
        "\n",
        "http://www.pythonchallenge.com/pc/def/linkedlist.php?nothing=82294"
       ]
      },
      {
       "output_type": "stream",
       "stream": "stdout",
       "text": [
        "\n",
        "http://www.pythonchallenge.com/pc/def/linkedlist.php?nothing=56060"
       ]
      },
      {
       "output_type": "stream",
       "stream": "stdout",
       "text": [
        "\n",
        "http://www.pythonchallenge.com/pc/def/linkedlist.php?nothing=95493"
       ]
      },
      {
       "output_type": "stream",
       "stream": "stdout",
       "text": [
        "\n",
        "http://www.pythonchallenge.com/pc/def/linkedlist.php?nothing=80865"
       ]
      },
      {
       "output_type": "stream",
       "stream": "stdout",
       "text": [
        "\n",
        "http://www.pythonchallenge.com/pc/def/linkedlist.php?nothing=66242"
       ]
      },
      {
       "output_type": "stream",
       "stream": "stdout",
       "text": [
        "\n",
        "http://www.pythonchallenge.com/pc/def/linkedlist.php?nothing=16065"
       ]
      },
      {
       "output_type": "stream",
       "stream": "stdout",
       "text": [
        "\n",
        "http://www.pythonchallenge.com/pc/def/linkedlist.php?nothing=62145"
       ]
      },
      {
       "output_type": "stream",
       "stream": "stdout",
       "text": [
        "\n",
        "http://www.pythonchallenge.com/pc/def/linkedlist.php?nothing=23147"
       ]
      },
      {
       "output_type": "stream",
       "stream": "stdout",
       "text": [
        "\n",
        "http://www.pythonchallenge.com/pc/def/linkedlist.php?nothing=83763"
       ]
      },
      {
       "output_type": "stream",
       "stream": "stdout",
       "text": [
        "\n",
        "http://www.pythonchallenge.com/pc/def/linkedlist.php?nothing=62381"
       ]
      },
      {
       "output_type": "stream",
       "stream": "stdout",
       "text": [
        "\n",
        "http://www.pythonchallenge.com/pc/def/linkedlist.php?nothing=76841"
       ]
      },
      {
       "output_type": "stream",
       "stream": "stdout",
       "text": [
        "\n",
        "http://www.pythonchallenge.com/pc/def/linkedlist.php?nothing=91706"
       ]
      },
      {
       "output_type": "stream",
       "stream": "stdout",
       "text": [
        "\n",
        "http://www.pythonchallenge.com/pc/def/linkedlist.php?nothing=9268"
       ]
      },
      {
       "output_type": "stream",
       "stream": "stdout",
       "text": [
        "\n",
        "http://www.pythonchallenge.com/pc/def/linkedlist.php?nothing=64814"
       ]
      },
      {
       "output_type": "stream",
       "stream": "stdout",
       "text": [
        "\n",
        "http://www.pythonchallenge.com/pc/def/linkedlist.php?nothing=80809"
       ]
      },
      {
       "output_type": "stream",
       "stream": "stdout",
       "text": [
        "\n",
        "http://www.pythonchallenge.com/pc/def/linkedlist.php?nothing=14039"
       ]
      },
      {
       "output_type": "stream",
       "stream": "stdout",
       "text": [
        "\n",
        "http://www.pythonchallenge.com/pc/def/linkedlist.php?nothing=73355"
       ]
      },
      {
       "output_type": "stream",
       "stream": "stdout",
       "text": [
        "\n",
        "http://www.pythonchallenge.com/pc/def/linkedlist.php?nothing=81905"
       ]
      },
      {
       "output_type": "stream",
       "stream": "stdout",
       "text": [
        "\n",
        "http://www.pythonchallenge.com/pc/def/linkedlist.php?nothing=36402"
       ]
      },
      {
       "output_type": "stream",
       "stream": "stdout",
       "text": [
        "\n",
        "http://www.pythonchallenge.com/pc/def/linkedlist.php?nothing=27221"
       ]
      },
      {
       "output_type": "stream",
       "stream": "stdout",
       "text": [
        "\n",
        "http://www.pythonchallenge.com/pc/def/linkedlist.php?nothing=79607"
       ]
      },
      {
       "output_type": "stream",
       "stream": "stdout",
       "text": [
        "\n",
        "http://www.pythonchallenge.com/pc/def/linkedlist.php?nothing=91763"
       ]
      },
      {
       "output_type": "stream",
       "stream": "stdout",
       "text": [
        "\n",
        "http://www.pythonchallenge.com/pc/def/linkedlist.php?nothing=11631"
       ]
      },
      {
       "output_type": "stream",
       "stream": "stdout",
       "text": [
        "\n",
        "http://www.pythonchallenge.com/pc/def/linkedlist.php?nothing=76396"
       ]
      },
      {
       "output_type": "stream",
       "stream": "stdout",
       "text": [
        "\n",
        "http://www.pythonchallenge.com/pc/def/linkedlist.php?nothing=69905"
       ]
      },
      {
       "output_type": "stream",
       "stream": "stdout",
       "text": [
        "\n",
        "http://www.pythonchallenge.com/pc/def/linkedlist.php?nothing=11073"
       ]
      },
      {
       "output_type": "stream",
       "stream": "stdout",
       "text": [
        "\n",
        "http://www.pythonchallenge.com/pc/def/linkedlist.php?nothing=71281"
       ]
      },
      {
       "output_type": "stream",
       "stream": "stdout",
       "text": [
        "\n",
        "http://www.pythonchallenge.com/pc/def/linkedlist.php?nothing=54345"
       ]
      },
      {
       "output_type": "stream",
       "stream": "stdout",
       "text": [
        "\n",
        "http://www.pythonchallenge.com/pc/def/linkedlist.php?nothing=19047"
       ]
      },
      {
       "output_type": "stream",
       "stream": "stdout",
       "text": [
        "\n",
        "http://www.pythonchallenge.com/pc/def/linkedlist.php?nothing=34376"
       ]
      },
      {
       "output_type": "stream",
       "stream": "stdout",
       "text": [
        "\n",
        "http://www.pythonchallenge.com/pc/def/linkedlist.php?nothing=3193"
       ]
      },
      {
       "output_type": "stream",
       "stream": "stdout",
       "text": [
        "\n",
        "http://www.pythonchallenge.com/pc/def/linkedlist.php?nothing=74258"
       ]
      },
      {
       "output_type": "stream",
       "stream": "stdout",
       "text": [
        "\n",
        "http://www.pythonchallenge.com/pc/def/linkedlist.php?nothing=62712"
       ]
      },
      {
       "output_type": "stream",
       "stream": "stdout",
       "text": [
        "\n",
        "http://www.pythonchallenge.com/pc/def/linkedlist.php?nothing=1823"
       ]
      },
      {
       "output_type": "stream",
       "stream": "stdout",
       "text": [
        "\n",
        "http://www.pythonchallenge.com/pc/def/linkedlist.php?nothing=21232"
       ]
      },
      {
       "output_type": "stream",
       "stream": "stdout",
       "text": [
        "\n",
        "http://www.pythonchallenge.com/pc/def/linkedlist.php?nothing=87890"
       ]
      },
      {
       "output_type": "stream",
       "stream": "stdout",
       "text": [
        "\n",
        "http://www.pythonchallenge.com/pc/def/linkedlist.php?nothing=21545"
       ]
      },
      {
       "output_type": "stream",
       "stream": "stdout",
       "text": [
        "\n",
        "http://www.pythonchallenge.com/pc/def/linkedlist.php?nothing=37136"
       ]
      },
      {
       "output_type": "stream",
       "stream": "stdout",
       "text": [
        "\n",
        "http://www.pythonchallenge.com/pc/def/linkedlist.php?nothing=23060"
       ]
      },
      {
       "output_type": "stream",
       "stream": "stdout",
       "text": [
        "\n",
        "http://www.pythonchallenge.com/pc/def/linkedlist.php?nothing=5385"
       ]
      },
      {
       "output_type": "stream",
       "stream": "stdout",
       "text": [
        "\n",
        "http://www.pythonchallenge.com/pc/def/linkedlist.php?nothing=4620"
       ]
      },
      {
       "output_type": "stream",
       "stream": "stdout",
       "text": [
        "\n",
        "http://www.pythonchallenge.com/pc/def/linkedlist.php?nothing=39111"
       ]
      },
      {
       "output_type": "stream",
       "stream": "stdout",
       "text": [
        "\n",
        "http://www.pythonchallenge.com/pc/def/linkedlist.php?nothing=35914"
       ]
      },
      {
       "output_type": "stream",
       "stream": "stdout",
       "text": [
        "\n",
        "http://www.pythonchallenge.com/pc/def/linkedlist.php?nothing=60310"
       ]
      },
      {
       "output_type": "stream",
       "stream": "stdout",
       "text": [
        "\n",
        "http://www.pythonchallenge.com/pc/def/linkedlist.php?nothing=19178"
       ]
      },
      {
       "output_type": "stream",
       "stream": "stdout",
       "text": [
        "\n",
        "http://www.pythonchallenge.com/pc/def/linkedlist.php?nothing=44671"
       ]
      },
      {
       "output_type": "stream",
       "stream": "stdout",
       "text": [
        "\n",
        "http://www.pythonchallenge.com/pc/def/linkedlist.php?nothing=45736"
       ]
      },
      {
       "output_type": "stream",
       "stream": "stdout",
       "text": [
        "\n",
        "http://www.pythonchallenge.com/pc/def/linkedlist.php?nothing=9216"
       ]
      },
      {
       "output_type": "stream",
       "stream": "stdout",
       "text": [
        "\n",
        "http://www.pythonchallenge.com/pc/def/linkedlist.php?nothing=12585"
       ]
      },
      {
       "output_type": "stream",
       "stream": "stdout",
       "text": [
        "\n",
        "http://www.pythonchallenge.com/pc/def/linkedlist.php?nothing=11302"
       ]
      },
      {
       "output_type": "stream",
       "stream": "stdout",
       "text": [
        "\n",
        "http://www.pythonchallenge.com/pc/def/linkedlist.php?nothing=33096"
       ]
      },
      {
       "output_type": "stream",
       "stream": "stdout",
       "text": [
        "\n",
        "http://www.pythonchallenge.com/pc/def/linkedlist.php?nothing=13967"
       ]
      },
      {
       "output_type": "stream",
       "stream": "stdout",
       "text": [
        "\n",
        "http://www.pythonchallenge.com/pc/def/linkedlist.php?nothing=57004"
       ]
      },
      {
       "output_type": "stream",
       "stream": "stdout",
       "text": [
        "\n",
        "http://www.pythonchallenge.com/pc/def/linkedlist.php?nothing=64196"
       ]
      },
      {
       "output_type": "stream",
       "stream": "stdout",
       "text": [
        "\n",
        "http://www.pythonchallenge.com/pc/def/linkedlist.php?nothing=73929"
       ]
      },
      {
       "output_type": "stream",
       "stream": "stdout",
       "text": [
        "\n",
        "http://www.pythonchallenge.com/pc/def/linkedlist.php?nothing=24800"
       ]
      },
      {
       "output_type": "stream",
       "stream": "stdout",
       "text": [
        "\n",
        "http://www.pythonchallenge.com/pc/def/linkedlist.php?nothing=25081"
       ]
      },
      {
       "output_type": "stream",
       "stream": "stdout",
       "text": [
        "\n",
        "http://www.pythonchallenge.com/pc/def/linkedlist.php?nothing=90033"
       ]
      },
      {
       "output_type": "stream",
       "stream": "stdout",
       "text": [
        "\n",
        "http://www.pythonchallenge.com/pc/def/linkedlist.php?nothing=45919"
       ]
      },
      {
       "output_type": "stream",
       "stream": "stdout",
       "text": [
        "\n",
        "http://www.pythonchallenge.com/pc/def/linkedlist.php?nothing=54827"
       ]
      },
      {
       "output_type": "stream",
       "stream": "stdout",
       "text": [
        "\n",
        "http://www.pythonchallenge.com/pc/def/linkedlist.php?nothing=73950"
       ]
      },
      {
       "output_type": "stream",
       "stream": "stdout",
       "text": [
        "\n",
        "http://www.pythonchallenge.com/pc/def/linkedlist.php?nothing=56978"
       ]
      },
      {
       "output_type": "stream",
       "stream": "stdout",
       "text": [
        "\n",
        "http://www.pythonchallenge.com/pc/def/linkedlist.php?nothing=8133"
       ]
      },
      {
       "output_type": "stream",
       "stream": "stdout",
       "text": [
        "\n",
        "http://www.pythonchallenge.com/pc/def/linkedlist.php?nothing=61900"
       ]
      },
      {
       "output_type": "stream",
       "stream": "stdout",
       "text": [
        "\n",
        "http://www.pythonchallenge.com/pc/def/linkedlist.php?nothing=47769"
       ]
      },
      {
       "output_type": "stream",
       "stream": "stdout",
       "text": [
        "\n",
        "http://www.pythonchallenge.com/pc/def/linkedlist.php?nothing=631"
       ]
      },
      {
       "output_type": "stream",
       "stream": "stdout",
       "text": [
        "\n",
        "http://www.pythonchallenge.com/pc/def/linkedlist.php?nothing=2284"
       ]
      },
      {
       "output_type": "stream",
       "stream": "stdout",
       "text": [
        "\n",
        "http://www.pythonchallenge.com/pc/def/linkedlist.php?nothing=60074"
       ]
      },
      {
       "output_type": "stream",
       "stream": "stdout",
       "text": [
        "\n",
        "http://www.pythonchallenge.com/pc/def/linkedlist.php?nothing=35959"
       ]
      },
      {
       "output_type": "stream",
       "stream": "stdout",
       "text": [
        "\n",
        "http://www.pythonchallenge.com/pc/def/linkedlist.php?nothing=57158"
       ]
      },
      {
       "output_type": "stream",
       "stream": "stdout",
       "text": [
        "\n",
        "http://www.pythonchallenge.com/pc/def/linkedlist.php?nothing=90990"
       ]
      },
      {
       "output_type": "stream",
       "stream": "stdout",
       "text": [
        "\n",
        "http://www.pythonchallenge.com/pc/def/linkedlist.php?nothing=27935"
       ]
      },
      {
       "output_type": "stream",
       "stream": "stdout",
       "text": [
        "\n",
        "http://www.pythonchallenge.com/pc/def/linkedlist.php?nothing=99927"
       ]
      },
      {
       "output_type": "stream",
       "stream": "stdout",
       "text": [
        "\n",
        "http://www.pythonchallenge.com/pc/def/linkedlist.php?nothing=41785"
       ]
      },
      {
       "output_type": "stream",
       "stream": "stdout",
       "text": [
        "\n",
        "http://www.pythonchallenge.com/pc/def/linkedlist.php?nothing=32660"
       ]
      },
      {
       "output_type": "stream",
       "stream": "stdout",
       "text": [
        "\n",
        "http://www.pythonchallenge.com/pc/def/linkedlist.php?nothing=4328"
       ]
      },
      {
       "output_type": "stream",
       "stream": "stdout",
       "text": [
        "\n",
        "http://www.pythonchallenge.com/pc/def/linkedlist.php?nothing=42067"
       ]
      },
      {
       "output_type": "stream",
       "stream": "stdout",
       "text": [
        "\n",
        "http://www.pythonchallenge.com/pc/def/linkedlist.php?nothing=8743"
       ]
      },
      {
       "output_type": "stream",
       "stream": "stdout",
       "text": [
        "\n",
        "http://www.pythonchallenge.com/pc/def/linkedlist.php?nothing=38613"
       ]
      },
      {
       "output_type": "stream",
       "stream": "stdout",
       "text": [
        "\n",
        "http://www.pythonchallenge.com/pc/def/linkedlist.php?nothing=21100"
       ]
      },
      {
       "output_type": "stream",
       "stream": "stdout",
       "text": [
        "\n",
        "http://www.pythonchallenge.com/pc/def/linkedlist.php?nothing=77864"
       ]
      },
      {
       "output_type": "stream",
       "stream": "stdout",
       "text": [
        "\n",
        "http://www.pythonchallenge.com/pc/def/linkedlist.php?nothing=6523"
       ]
      },
      {
       "output_type": "stream",
       "stream": "stdout",
       "text": [
        "\n",
        "http://www.pythonchallenge.com/pc/def/linkedlist.php?nothing=6927"
       ]
      },
      {
       "output_type": "stream",
       "stream": "stdout",
       "text": [
        "\n",
        "http://www.pythonchallenge.com/pc/def/linkedlist.php?nothing=82930"
       ]
      },
      {
       "output_type": "stream",
       "stream": "stdout",
       "text": [
        "\n",
        "http://www.pythonchallenge.com/pc/def/linkedlist.php?nothing=35846"
       ]
      },
      {
       "output_type": "stream",
       "stream": "stdout",
       "text": [
        "\n",
        "http://www.pythonchallenge.com/pc/def/linkedlist.php?nothing=31785"
       ]
      },
      {
       "output_type": "stream",
       "stream": "stdout",
       "text": [
        "\n",
        "http://www.pythonchallenge.com/pc/def/linkedlist.php?nothing=41846"
       ]
      },
      {
       "output_type": "stream",
       "stream": "stdout",
       "text": [
        "\n",
        "http://www.pythonchallenge.com/pc/def/linkedlist.php?nothing=72387"
       ]
      },
      {
       "output_type": "stream",
       "stream": "stdout",
       "text": [
        "\n",
        "http://www.pythonchallenge.com/pc/def/linkedlist.php?nothing=59334"
       ]
      },
      {
       "output_type": "stream",
       "stream": "stdout",
       "text": [
        "\n",
        "http://www.pythonchallenge.com/pc/def/linkedlist.php?nothing=65520"
       ]
      },
      {
       "output_type": "stream",
       "stream": "stdout",
       "text": [
        "\n",
        "http://www.pythonchallenge.com/pc/def/linkedlist.php?nothing=93781"
       ]
      },
      {
       "output_type": "stream",
       "stream": "stdout",
       "text": [
        "\n",
        "http://www.pythonchallenge.com/pc/def/linkedlist.php?nothing=55840"
       ]
      },
      {
       "output_type": "stream",
       "stream": "stdout",
       "text": [
        "\n",
        "http://www.pythonchallenge.com/pc/def/linkedlist.php?nothing=80842"
       ]
      },
      {
       "output_type": "stream",
       "stream": "stdout",
       "text": [
        "\n",
        "http://www.pythonchallenge.com/pc/def/linkedlist.php?nothing=59022"
       ]
      },
      {
       "output_type": "stream",
       "stream": "stdout",
       "text": [
        "\n",
        "http://www.pythonchallenge.com/pc/def/linkedlist.php?nothing=23298"
       ]
      },
      {
       "output_type": "stream",
       "stream": "stdout",
       "text": [
        "\n",
        "http://www.pythonchallenge.com/pc/def/linkedlist.php?nothing=27709"
       ]
      },
      {
       "output_type": "stream",
       "stream": "stdout",
       "text": [
        "\n",
        "http://www.pythonchallenge.com/pc/def/linkedlist.php?nothing=96791"
       ]
      },
      {
       "output_type": "stream",
       "stream": "stdout",
       "text": [
        "\n",
        "http://www.pythonchallenge.com/pc/def/linkedlist.php?nothing=75635"
       ]
      },
      {
       "output_type": "stream",
       "stream": "stdout",
       "text": [
        "\n",
        "http://www.pythonchallenge.com/pc/def/linkedlist.php?nothing=52899"
       ]
      },
      {
       "output_type": "stream",
       "stream": "stdout",
       "text": [
        "\n",
        "peak.html"
       ]
      },
      {
       "output_type": "stream",
       "stream": "stdout",
       "text": [
        "\n"
       ]
      }
     ],
     "prompt_number": 8
    },
    {
     "cell_type": "code",
     "collapsed": false,
     "input": [
      "result = text.split('.')[0]\n",
      "next_url = base_url.format(result)\n",
      "print(next_url)"
     ],
     "language": "python",
     "metadata": {},
     "outputs": [
      {
       "output_type": "stream",
       "stream": "stdout",
       "text": [
        "http://www.pythonchallenge.com/pc/def/peak.html\n"
       ]
      }
     ],
     "prompt_number": 9
    },
    {
     "cell_type": "markdown",
     "metadata": {},
     "source": [
      "# Challenge 5"
     ]
    },
    {
     "cell_type": "code",
     "collapsed": false,
     "input": [
      "import pickle\n",
      "data_url = r'http://www.pythonchallenge.com/pc/def/banner.p'\n",
      "\n",
      "req = requests.get(data_url)\n",
      "data = pickle.loads(req.content)\n",
      "\n",
      "for line in data:\n",
      "    print(''.join([c * occ for c, occ in line]))\n"
     ],
     "language": "python",
     "metadata": {},
     "outputs": [
      {
       "output_type": "stream",
       "stream": "stdout",
       "text": [
        "                                                                                               \n",
        "              #####                                                                      ##### \n",
        "               ####                                                                       #### \n",
        "               ####                                                                       #### \n",
        "               ####                                                                       #### \n",
        "               ####                                                                       #### \n",
        "               ####                                                                       #### \n",
        "               ####                                                                       #### \n",
        "               ####                                                                       #### \n",
        "      ###      ####   ###         ###       #####   ###    #####   ###          ###       #### \n",
        "   ###   ##    #### #######     ##  ###      #### #######   #### #######     ###  ###     #### \n",
        "  ###     ###  #####    ####   ###   ####    #####    ####  #####    ####   ###     ###   #### \n",
        " ###           ####     ####   ###    ###    ####     ####  ####     ####  ###      ####  #### \n",
        " ###           ####     ####          ###    ####     ####  ####     ####  ###       ###  #### \n",
        "####           ####     ####     ##   ###    ####     ####  ####     #### ####       ###  #### \n",
        "####           ####     ####   ##########    ####     ####  ####     #### ##############  #### \n",
        "####           ####     ####  ###    ####    ####     ####  ####     #### ####            #### \n",
        "####           ####     #### ####     ###    ####     ####  ####     #### ####            #### \n",
        " ###           ####     #### ####     ###    ####     ####  ####     ####  ###            #### \n",
        "  ###      ##  ####     ####  ###    ####    ####     ####  ####     ####   ###      ##   #### \n",
        "   ###    ##   ####     ####   ###########   ####     ####  ####     ####    ###    ##    #### \n",
        "      ###     ######    #####    ##    #### ######    ###########    #####      ###      ######\n",
        "                                                                                               \n"
       ]
      }
     ],
     "prompt_number": 10
    },
    {
     "cell_type": "markdown",
     "metadata": {},
     "source": [
      "# Challenge 6"
     ]
    },
    {
     "cell_type": "code",
     "collapsed": false,
     "input": [
      "import urllib\n",
      "\n",
      "zip_url  = r'http://www.pythonchallenge.com/pc/def/channel.zip'\n",
      "urllib.urlretrieve(zip_url, r'C:\\Users\\Max\\Downloads\\channel.zip')\n"
     ],
     "language": "python",
     "metadata": {},
     "outputs": [
      {
       "output_type": "pyout",
       "prompt_number": 11,
       "text": [
        "('C:\\\\Users\\\\Max\\\\Downloads\\\\channel.zip',\n",
        " <httplib.HTTPMessage instance at 0x0000000007E25FC8>)"
       ]
      }
     ],
     "prompt_number": 11
    },
    {
     "cell_type": "code",
     "collapsed": false,
     "input": [
      "from zipfile import ZipFile\n",
      "\n",
      "zf = ZipFile(r'C:\\Users\\Max\\Downloads\\channel.zip')\n",
      "\n",
      "for name in zf.filelist:\n",
      "    text = zf.read(name)\n",
      "    if not re.match(r'.*\\d+', text):\n",
      "        print(text)"
     ],
     "language": "python",
     "metadata": {},
     "outputs": [
      {
       "output_type": "stream",
       "stream": "stdout",
       "text": [
        "Collect the comments.\n",
        "welcome to my zipped list.\n",
        "\n",
        "hint1: start from 90052\n",
        "hint2: answer is inside the zip\n",
        "\n"
       ]
      }
     ],
     "prompt_number": 12
    },
    {
     "cell_type": "code",
     "collapsed": false,
     "input": [
      "comments = []\n",
      "current_file = '90052.txt'\n",
      "\n",
      "while True:\n",
      "    comments.append(zf.getinfo(current_file).comment)\n",
      "    \n",
      "    m = re.search(r'(\\d+)$', zf.read(current_file))\n",
      "    if m:\n",
      "        next_node = m.group(1)\n",
      "        current_file = next_node + '.txt'\n",
      "    else:\n",
      "        break\n",
      "    \n",
      "print(''.join(comments))\n",
      "    "
     ],
     "language": "python",
     "metadata": {},
     "outputs": [
      {
       "output_type": "stream",
       "stream": "stdout",
       "text": [
        "****************************************************************\n",
        "****************************************************************\n",
        "**                                                            **\n",
        "**   OO    OO    XX      YYYY    GG    GG  EEEEEE NN      NN  **\n",
        "**   OO    OO  XXXXXX   YYYYYY   GG   GG   EEEEEE  NN    NN   **\n",
        "**   OO    OO XXX  XXX YYY   YY  GG GG     EE       NN  NN    **\n",
        "**   OOOOOOOO XX    XX YY        GGG       EEEEE     NNNN     **\n",
        "**   OOOOOOOO XX    XX YY        GGG       EEEEE      NN      **\n",
        "**   OO    OO XXX  XXX YYY   YY  GG GG     EE         NN      **\n",
        "**   OO    OO  XXXXXX   YYYYYY   GG   GG   EEEEEE     NN      **\n",
        "**   OO    OO    XX      YYYY    GG    GG  EEEEEE     NN      **\n",
        "**                                                            **\n",
        "****************************************************************\n",
        " **************************************************************\n",
        "\n"
       ]
      }
     ],
     "prompt_number": 13
    },
    {
     "cell_type": "code",
     "collapsed": false,
     "input": [
      "next_url = base_url.format('hockey')\n",
      "print(next_url)\n",
      "\n",
      "next_url = base_url.format('oxygen')\n",
      "print(next_url)\n",
      "\n"
     ],
     "language": "python",
     "metadata": {},
     "outputs": [
      {
       "output_type": "stream",
       "stream": "stdout",
       "text": [
        "http://www.pythonchallenge.com/pc/def/hockey.html\n",
        "http://www.pythonchallenge.com/pc/def/oxygen.html\n"
       ]
      }
     ],
     "prompt_number": 14
    },
    {
     "cell_type": "markdown",
     "metadata": {},
     "source": [
      "# Challenge 7"
     ]
    },
    {
     "cell_type": "code",
     "collapsed": false,
     "input": [
      "from PIL import Image\n",
      "import urllib\n",
      "\n",
      "png_url = r'http://www.pythonchallenge.com/pc/def/oxygen.png'\n",
      "fh = StringIO(urllib.urlopen(png_url).read())\n",
      "img = Image.open(fh)"
     ],
     "language": "python",
     "metadata": {},
     "outputs": [],
     "prompt_number": 15
    },
    {
     "cell_type": "code",
     "collapsed": false,
     "input": [
      "vals = (img.getpixel((x, 50))[1] for x in xrange(1, 610, 1))\n",
      "\n",
      "unique_vals = []\n",
      "for val in vals:\n",
      "    if len(unique_vals) == 0 or unique_vals[-1] != val:\n",
      "        unique_vals.append(val)\n",
      "        \n",
      "print(''.join(map(chr, unique_vals)))\n",
      "        \n",
      "    "
     ],
     "language": "python",
     "metadata": {},
     "outputs": [
      {
       "output_type": "stream",
       "stream": "stdout",
       "text": [
        "smart guy, you made it. the next level is [105, 10, 16, 101, 103, 14, 105, 16, 121]vp\n"
       ]
      }
     ],
     "prompt_number": 16
    },
    {
     "cell_type": "code",
     "collapsed": false,
     "input": [
      "l = [105, 10, 16, 101, 103, 14, 105, 16, 121]\n",
      "def remap(i, start_letter = 'a'):\n",
      "    if chr(i) in string.ascii_letters:\n",
      "        return chr(i)\n",
      "    return chr(i + ord(start_letter)) \n",
      "\n",
      "for letter in string.ascii_lowercase:\n",
      "    remap_func = functools.partial(remap, start_letter=letter)\n",
      "    word = ''.join(map(remap_func, l))\n",
      "    if re.match('^[a-z]+$', word):\n",
      "        print(letter, word)\n",
      "\n",
      "        "
     ],
     "language": "python",
     "metadata": {},
     "outputs": [
      {
       "output_type": "stream",
       "stream": "stdout",
       "text": [
        "a ikqegoiqy\n",
        "b ilregpiry\n",
        "c imsegqisy\n",
        "d integrity\n",
        "e iouegsiuy\n",
        "f ipvegtivy\n",
        "g iqweguiwy\n",
        "h irxegvixy\n",
        "i isyegwiyy\n",
        "j itzegxizy\n"
       ]
      }
     ],
     "prompt_number": 17
    },
    {
     "cell_type": "code",
     "collapsed": false,
     "input": [
      "next_url = base_url.format('integrity')\n",
      "print(next_url)\n"
     ],
     "language": "python",
     "metadata": {},
     "outputs": [
      {
       "output_type": "stream",
       "stream": "stdout",
       "text": [
        "http://www.pythonchallenge.com/pc/def/integrity.html\n"
       ]
      }
     ],
     "prompt_number": 18
    }
   ],
   "metadata": {}
  }
 ]
}